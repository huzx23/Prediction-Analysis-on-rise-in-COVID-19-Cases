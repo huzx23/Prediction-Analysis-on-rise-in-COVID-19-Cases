{
 "cells": [
  {
   "cell_type": "code",
   "execution_count": null,
   "metadata": {
    "colab": {
     "base_uri": "https://localhost:8080/",
     "height": 17
    },
    "id": "XU0Asos0BvUe",
    "outputId": "a43fcbc4-fd12-43c0-ba35-7990332a854b"
   },
   "outputs": [],
   "source": [
    "import gc\n",
    "import os\n",
    "from pathlib import Path\n",
    "import random\n",
    "import sys\n",
    "\n",
    "from tqdm.notebook import tqdm\n",
    "import numpy as np\n",
    "import pandas as pd\n",
    "import scipy as sp\n",
    "\n",
    "import matplotlib as mpl\n",
    "import matplotlib.pyplot as plt\n",
    "import seaborn as sns\n",
    "\n",
    "from IPython.core.display import display, HTML\n",
    "\n",
    "# --- plotly --- \n",
    "from plotly import tools, subplots\n",
    "import plotly.offline as py\n",
    "py.init_notebook_mode(connected=True)\n",
    "import plotly.graph_objs as go\n",
    "import plotly.express as px\n",
    "import plotly.figure_factory as ff\n",
    "import plotly.io as pio\n",
    "pio.templates.default = \"plotly_white\"\n",
    "\n",
    "# --- models ---\n",
    "from sklearn import preprocessing\n",
    "from sklearn.model_selection import KFold\n",
    "import lightgbm as lgb\n",
    "import xgboost as xgb\n",
    "\n",
    "\n",
    "# --- setup ---\n",
    "\n"
   ]
  },
  {
   "cell_type": "code",
   "execution_count": null,
   "metadata": {
    "colab": {
     "base_uri": "https://localhost:8080/"
    },
    "id": "SDygYwOVTcvF",
    "outputId": "5db10e3a-fa31-4089-8e72-c6627e3d81cc"
   },
   "outputs": [],
   "source": [
    "!pip install catboost"
   ]
  },
  {
   "cell_type": "code",
   "execution_count": null,
   "metadata": {
    "id": "YMLeftjaTl7B"
   },
   "outputs": [],
   "source": [
    "import catboost as cb"
   ]
  },
  {
   "cell_type": "code",
   "execution_count": null,
   "metadata": {
    "id": "8S6oZkaZT1FB"
   },
   "outputs": [],
   "source": [
    "pd.set_option('max_columns', 50)"
   ]
  },
  {
   "cell_type": "code",
   "execution_count": null,
   "metadata": {
    "id": "apK9YLK7CinQ"
   },
   "outputs": [],
   "source": [
    "# Input data files are available in the \"../input/\" directory.\n",
    "import os\n",
    "\n",
    "#     filenames.sort()\n",
    "#     for filename in filenames:\n",
    "#         print(os.path.join(dirname, filename))\n"
   ]
  },
  {
   "cell_type": "code",
   "execution_count": null,
   "metadata": {
    "colab": {
     "base_uri": "https://localhost:8080/"
    },
    "id": "wP6uhcGpCjMr",
    "outputId": "f56c518f-29ce-46ec-f631-b2290060788f"
   },
   "outputs": [],
   "source": [
    "%%time\n",
    "import requests\n",
    "\n",
    "for filename in ['time_series_covid19_confirmed_global.csv',\n",
    "                 'time_series_covid19_deaths_global.csv',\n",
    "                 'time_series_covid19_recovered_global.csv',\n",
    "                 'time_series_covid19_confirmed_US.csv',\n",
    "                 'time_series_covid19_deaths_US.csv']:\n",
    "    print(f'Downloading {filename}')\n",
    "    url = f'https://raw.githubusercontent.com/CSSEGISandData/COVID-19/master/csse_covid_19_data/csse_covid_19_time_series/{filename}'\n",
    "    myfile = requests.get(url)\n",
    "    open(filename, 'wb').write(myfile.content)"
   ]
  },
  {
   "cell_type": "code",
   "execution_count": null,
   "metadata": {
    "id": "h6Zh34dPCjgt"
   },
   "outputs": [],
   "source": [
    "from datetime import datetime\n",
    "\n",
    "def _convert_date_str(df):\n",
    "    try:\n",
    "        df.columns = list(df.columns[:4]) + [datetime.strptime(d, \"%m/%d/%y\").date().strftime(\"%Y-%m-%d\") for d in df.columns[4:]]\n",
    "    except:\n",
    "        print('_convert_date_str failed with %y, try %Y')\n",
    "        df.columns = list(df.columns[:4]) + [datetime.strptime(d, \"%m/%d/%Y\").date().strftime(\"%Y-%m-%d\") for d in df.columns[4:]]\n",
    "\n",
    "\n",
    "confirmed_global_df = pd.read_csv('time_series_covid19_confirmed_global.csv')\n",
    "_convert_date_str(confirmed_global_df)\n",
    "\n",
    "deaths_global_df = pd.read_csv('time_series_covid19_deaths_global.csv')\n",
    "_convert_date_str(deaths_global_df)\n",
    "\n",
    "recovered_global_df = pd.read_csv('time_series_covid19_recovered_global.csv')\n",
    "_convert_date_str(recovered_global_df)"
   ]
  },
  {
   "cell_type": "code",
   "execution_count": null,
   "metadata": {
    "id": "NERhmZmmCkdY"
   },
   "outputs": [],
   "source": [
    "# Filter out problematic data points (The West Bank and Gaza had a negative value, cruise ships were associated with Canada, etc.)\n",
    "removed_states = \"Recovered|Grand Princess|Diamond Princess\"\n",
    "removed_countries = \"US|The West Bank and Gaza\"\n",
    "\n",
    "confirmed_global_df.rename(columns={\"Province/State\": \"Province_State\", \"Country/Region\": \"Country_Region\"}, inplace=True)\n",
    "deaths_global_df.rename(columns={\"Province/State\": \"Province_State\", \"Country/Region\": \"Country_Region\"}, inplace=True)\n",
    "recovered_global_df.rename(columns={\"Province/State\": \"Province_State\", \"Country/Region\": \"Country_Region\"}, inplace=True)\n",
    "\n",
    "confirmed_global_df = confirmed_global_df[~confirmed_global_df[\"Province_State\"].replace(np.nan, \"nan\").str.match(removed_states)]\n",
    "deaths_global_df    = deaths_global_df[~deaths_global_df[\"Province_State\"].replace(np.nan, \"nan\").str.match(removed_states)]\n",
    "recovered_global_df = recovered_global_df[~recovered_global_df[\"Province_State\"].replace(np.nan, \"nan\").str.match(removed_states)]\n",
    "\n",
    "confirmed_global_df = confirmed_global_df[~confirmed_global_df[\"Country_Region\"].replace(np.nan, \"nan\").str.match(removed_countries)]\n",
    "deaths_global_df    = deaths_global_df[~deaths_global_df[\"Country_Region\"].replace(np.nan, \"nan\").str.match(removed_countries)]\n",
    "recovered_global_df = recovered_global_df[~recovered_global_df[\"Country_Region\"].replace(np.nan, \"nan\").str.match(removed_countries)]\n"
   ]
  },
  {
   "cell_type": "code",
   "execution_count": null,
   "metadata": {
    "id": "FWywjP34Ck1S"
   },
   "outputs": [],
   "source": [
    "confirmed_global_melt_df = confirmed_global_df.melt(\n",
    "    id_vars=['Country_Region', 'Province_State', 'Lat', 'Long'], value_vars=confirmed_global_df.columns[4:], var_name='Date', value_name='ConfirmedCases')\n",
    "deaths_global_melt_df = deaths_global_df.melt(\n",
    "    id_vars=['Country_Region', 'Province_State', 'Lat', 'Long'], value_vars=confirmed_global_df.columns[4:], var_name='Date', value_name='Deaths')\n",
    "recovered_global_melt_df = deaths_global_df.melt(\n",
    "    id_vars=['Country_Region', 'Province_State', 'Lat', 'Long'], value_vars=confirmed_global_df.columns[4:], var_name='Date', value_name='Recovered')"
   ]
  },
  {
   "cell_type": "code",
   "execution_count": null,
   "metadata": {
    "id": "HlUfOlj_ClI-"
   },
   "outputs": [],
   "source": [
    "train = confirmed_global_melt_df.merge(deaths_global_melt_df, on=['Country_Region', 'Province_State', 'Lat', 'Long', 'Date'])\n",
    "train = train.merge(recovered_global_melt_df, on=['Country_Region', 'Province_State', 'Lat', 'Long', 'Date'])"
   ]
  },
  {
   "cell_type": "code",
   "execution_count": null,
   "metadata": {
    "id": "zkvyQ8aXClcL"
   },
   "outputs": [],
   "source": [
    "# --- US ---\n",
    "confirmed_us_df = pd.read_csv('time_series_covid19_confirmed_US.csv')\n",
    "deaths_us_df = pd.read_csv('time_series_covid19_deaths_US.csv')\n",
    "\n",
    "confirmed_us_df.drop(['UID', 'iso2', 'iso3', 'code3', 'FIPS', 'Admin2', 'Combined_Key'], inplace=True, axis=1)\n",
    "deaths_us_df.drop(['UID', 'iso2', 'iso3', 'code3', 'FIPS', 'Admin2', 'Combined_Key', 'Population'], inplace=True, axis=1)\n",
    "\n",
    "confirmed_us_df.rename({'Long_': 'Long'}, axis=1, inplace=True)\n",
    "deaths_us_df.rename({'Long_': 'Long'}, axis=1, inplace=True)\n",
    "\n",
    "_convert_date_str(confirmed_us_df)\n",
    "_convert_date_str(deaths_us_df)\n",
    "\n",
    "# clean\n",
    "confirmed_us_df = confirmed_us_df[~confirmed_us_df.Province_State.str.match(\"Diamond Princess|Grand Princess|Recovered|Northern Mariana Islands|American Samoa\")]\n",
    "deaths_us_df = deaths_us_df[~deaths_us_df.Province_State.str.match(\"Diamond Princess|Grand Princess|Recovered|Northern Mariana Islands|American Samoa\")]\n",
    "\n",
    "# --- Aggregate by province state ---\n",
    "#confirmed_us_df.groupby(['Country_Region', 'Province_State'])\n",
    "confirmed_us_df = confirmed_us_df.groupby(['Country_Region', 'Province_State']).sum().reset_index()\n",
    "deaths_us_df = deaths_us_df.groupby(['Country_Region', 'Province_State']).sum().reset_index()\n",
    "\n",
    "# remove lat, long.\n",
    "confirmed_us_df.drop(['Lat', 'Long'], inplace=True, axis=1)\n",
    "deaths_us_df.drop(['Lat', 'Long'], inplace=True, axis=1)\n",
    "\n",
    "confirmed_us_melt_df = confirmed_us_df.melt(\n",
    "    id_vars=['Country_Region', 'Province_State'], value_vars=confirmed_us_df.columns[2:], var_name='Date', value_name='ConfirmedCases')\n",
    "deaths_us_melt_df = deaths_us_df.melt(\n",
    "    id_vars=['Country_Region', 'Province_State'], value_vars=deaths_us_df.columns[2:], var_name='Date', value_name='Deaths')\n",
    "\n",
    "train_us = confirmed_us_melt_df.merge(deaths_us_melt_df, on=['Country_Region', 'Province_State', 'Date'])"
   ]
  },
  {
   "cell_type": "code",
   "execution_count": null,
   "metadata": {
    "id": "NTONNfstClyp"
   },
   "outputs": [],
   "source": [
    "train = pd.concat([train, train_us], axis=0, sort=False)\n",
    "\n",
    "train_us.rename({'Country_Region': 'country', 'Province_State': 'province', 'Date': 'date', 'ConfirmedCases': 'confirmed', 'Deaths': 'fatalities'}, axis=1, inplace=True)\n",
    "train_us['country_province'] = train_us['country'].fillna('') + '/' + train_us['province'].fillna('')"
   ]
  },
  {
   "cell_type": "code",
   "execution_count": null,
   "metadata": {
    "colab": {
     "base_uri": "https://localhost:8080/",
     "height": 402
    },
    "id": "WI_eIYZrDepG",
    "outputId": "93b9be81-274e-4aac-c489-e33415447719"
   },
   "outputs": [],
   "source": [
    "train"
   ]
  },
  {
   "cell_type": "code",
   "execution_count": null,
   "metadata": {
    "colab": {
     "base_uri": "https://localhost:8080/"
    },
    "id": "Q3AxY6GVDfAq",
    "outputId": "39632b7b-ce46-4285-81ec-ddc3fecc19b1"
   },
   "outputs": [],
   "source": [
    "%%time\n",
    "datadir = Path('submission1.csv')\n",
    "\n",
    "#Forecasting week 4 file is saved as submission1.csv\n",
    "\n",
    "# Read in the data CSV files\n",
    "#train = pd.read_csv(datadir/'train.csv')\n",
    "#test = pd.read_csv(datadir/'test.csv')\n",
    "#submission = pd.read_csv(datadir/'submission.csv')"
   ]
  },
  {
   "cell_type": "code",
   "execution_count": null,
   "metadata": {
    "colab": {
     "base_uri": "https://localhost:8080/",
     "height": 402
    },
    "id": "_xj-VpQjDfYa",
    "outputId": "d608e1dc-33d2-4a03-8076-a06cf35fdcd6"
   },
   "outputs": [],
   "source": [
    "train"
   ]
  },
  {
   "cell_type": "code",
   "execution_count": null,
   "metadata": {
    "id": "qNqUWlhSDgcX"
   },
   "outputs": [],
   "source": [
    "#test"
   ]
  },
  {
   "cell_type": "code",
   "execution_count": null,
   "metadata": {
    "id": "DUAqk-vTDg0c"
   },
   "outputs": [],
   "source": [
    "#submission\n"
   ]
  },
  {
   "cell_type": "code",
   "execution_count": null,
   "metadata": {
    "id": "2HW6sTj_DhMB"
   },
   "outputs": [],
   "source": [
    "train.rename({'Country_Region': 'country', 'Province_State': 'province', 'Id': 'id', 'Date': 'date', 'ConfirmedCases': 'confirmed', 'Deaths': 'fatalities', 'Recovered': 'recovered'}, axis=1, inplace=True)\n",
    "train['country_province'] = train['country'].fillna('') + '/' + train['province'].fillna('')\n",
    "\n",
    "# test.rename({'Country_Region': 'country', 'Province_State': 'province', 'Id': 'id', 'Date': 'date', 'ConfirmedCases': 'confirmed', 'Fatalities': 'fatalities'}, axis=1, inplace=True)\n",
    "# test['country_province'] = test['country'].fillna('') + '/' + test['province'].fillna('')"
   ]
  },
  {
   "cell_type": "code",
   "execution_count": null,
   "metadata": {
    "colab": {
     "base_uri": "https://localhost:8080/",
     "height": 195
    },
    "id": "zc7VsejSDhq4",
    "outputId": "5b61ca37-6d53-40aa-e571-83a7b4e5b083"
   },
   "outputs": [],
   "source": [
    "ww_df = train.groupby('date')[['confirmed', 'fatalities']].sum().reset_index()\n",
    "ww_df['new_case'] = ww_df['confirmed'] - ww_df['confirmed'].shift(1)\n",
    "ww_df['growth_factor'] = ww_df['new_case'] / ww_df['new_case'].shift(1)\n",
    "ww_df.tail()"
   ]
  },
  {
   "cell_type": "code",
   "execution_count": null,
   "metadata": {
    "colab": {
     "base_uri": "https://localhost:8080/",
     "height": 402
    },
    "id": "12g3gMjVDh-X",
    "outputId": "fecaf0b5-36f8-42f6-a106-a93a15c346f2"
   },
   "outputs": [],
   "source": [
    "ww_melt_df = pd.melt(ww_df, id_vars=['date'], value_vars=['confirmed', 'fatalities', 'new_case'])\n",
    "ww_melt_df"
   ]
  },
  {
   "cell_type": "code",
   "execution_count": null,
   "metadata": {
    "colab": {
     "base_uri": "https://localhost:8080/",
     "height": 542
    },
    "id": "PqkmdaHxDiVK",
    "outputId": "ae72858d-d379-4aed-ae64-4497c6961d20"
   },
   "outputs": [],
   "source": [
    "fig = px.line(ww_melt_df, x=\"date\", y=\"value\", color='variable', \n",
    "              title=\"Worldwide Confirmed/Death Cases Over Time\")\n",
    "fig.show()"
   ]
  },
  {
   "cell_type": "code",
   "execution_count": null,
   "metadata": {
    "colab": {
     "base_uri": "https://localhost:8080/",
     "height": 542
    },
    "id": "ciY0zef0EKFc",
    "outputId": "922698cb-bdc0-45eb-9310-a690f8496192"
   },
   "outputs": [],
   "source": [
    "fig = px.line(ww_melt_df, x=\"date\", y=\"value\", color='variable',\n",
    "              title=\"Worldwide Confirmed/Death Cases Over Time (Log scale)\",\n",
    "             log_y=True)\n",
    "fig.show()"
   ]
  },
  {
   "cell_type": "code",
   "execution_count": null,
   "metadata": {
    "colab": {
     "base_uri": "https://localhost:8080/",
     "height": 542
    },
    "id": "eB5252kLEKdo",
    "outputId": "f460bc1f-be31-41e0-ddfb-011634394430"
   },
   "outputs": [],
   "source": [
    "ww_df['mortality'] = ww_df['fatalities'] / ww_df['confirmed']\n",
    "\n",
    "fig = px.line(ww_df, x=\"date\", y=\"mortality\", \n",
    "              title=\"Worldwide Mortality Rate Over Time\")\n",
    "fig.show()"
   ]
  },
  {
   "cell_type": "code",
   "execution_count": null,
   "metadata": {
    "colab": {
     "base_uri": "https://localhost:8080/",
     "height": 542
    },
    "id": "ni-RT5q5EKw-",
    "outputId": "9382c403-c422-4952-9275-2140ec84e08b"
   },
   "outputs": [],
   "source": [
    "fig = px.line(ww_df, x=\"date\", y=\"growth_factor\", \n",
    "              title=\"Worldwide Growth Factor Over Time\")\n",
    "fig.add_trace(go.Scatter(x=[ww_df['date'].min(), ww_df['date'].max()], y=[1., 1.], name='Growth factor=1.', line=dict(dash='dash', color=('rgb(255, 0, 0)'))))\n",
    "fig.update_yaxes(range=[0., 5.])\n",
    "fig.show()"
   ]
  },
  {
   "cell_type": "code",
   "execution_count": null,
   "metadata": {
    "colab": {
     "base_uri": "https://localhost:8080/",
     "height": 195
    },
    "id": "Q3HNEDhRELDP",
    "outputId": "55ac13ba-5c3a-4b56-8a07-0700d89de54d"
   },
   "outputs": [],
   "source": [
    "country_df = train.groupby(['date', 'country'])[['confirmed', 'fatalities']].sum().reset_index()\n",
    "country_df.tail()"
   ]
  },
  {
   "cell_type": "code",
   "execution_count": null,
   "metadata": {
    "colab": {
     "base_uri": "https://localhost:8080/"
    },
    "id": "UZp0AmWXELV7",
    "outputId": "c29a69b4-ccf4-4f01-e41a-f52e4c013acc"
   },
   "outputs": [],
   "source": [
    "countries = country_df['country'].unique()\n",
    "print(f'{len(countries)} countries are in dataset:\\n{countries}')"
   ]
  },
  {
   "cell_type": "code",
   "execution_count": null,
   "metadata": {
    "colab": {
     "base_uri": "https://localhost:8080/"
    },
    "id": "TbWTQAXeELmo",
    "outputId": "08867d2f-a33b-404e-dd37-1069f18a9581"
   },
   "outputs": [],
   "source": [
    "target_date = country_df['date'].max()\n",
    "\n",
    "print('Date: ', target_date)\n",
    "for i in [1, 10, 100, 1000, 10000]:\n",
    "    n_countries = len(country_df.query('(date == @target_date) & confirmed > @i'))\n",
    "    print(f'{n_countries} countries have more than {i} confirmed cases')"
   ]
  },
  {
   "cell_type": "code",
   "execution_count": null,
   "metadata": {
    "colab": {
     "base_uri": "https://localhost:8080/",
     "height": 366
    },
    "id": "yQ1Il_4zEL6H",
    "outputId": "1a523088-493a-491e-f768-9d991b19d8e7"
   },
   "outputs": [],
   "source": [
    "ax = sns.distplot(np.log10(country_df.query('date == \"2020-03-27\"')['confirmed'] + 1))\n",
    "ax.set_xlim([0, 6])\n",
    "ax.set_xticks(np.arange(7))\n",
    "_ = ax.set_xticklabels(['0', '10', '100', '1k', '10k', '100k', '1m'])"
   ]
  },
  {
   "cell_type": "code",
   "execution_count": null,
   "metadata": {
    "id": "snvcAivNEMOs"
   },
   "outputs": [],
   "source": [
    "top_country_df = country_df.query('(date == @target_date) & (confirmed > 1000)').sort_values('confirmed', ascending=False)\n",
    "top_country_melt_df = pd.melt(top_country_df, id_vars='country', value_vars=['confirmed', 'fatalities'])"
   ]
  },
  {
   "cell_type": "code",
   "execution_count": null,
   "metadata": {
    "colab": {
     "base_uri": "https://localhost:8080/",
     "height": 1000
    },
    "id": "9IsCleyuExI5",
    "outputId": "08b4d75f-127a-4fca-ee39-681bf842b32c"
   },
   "outputs": [],
   "source": [
    "fig = px.bar(top_country_melt_df.iloc[::-1],\n",
    "             x='value', y='country', color='variable', barmode='group',\n",
    "             title=f'Confirmed Cases/Deaths on {target_date}', text='value', height=1500, orientation='h')\n",
    "fig.show()"
   ]
  },
  {
   "cell_type": "code",
   "execution_count": null,
   "metadata": {
    "colab": {
     "base_uri": "https://localhost:8080/",
     "height": 542
    },
    "id": "veJ_GEKyExev",
    "outputId": "8845e18c-7244-4dd4-b3a5-f557897ab283"
   },
   "outputs": [],
   "source": [
    "top30_countries = top_country_df.sort_values('confirmed', ascending=False).iloc[:30]['country'].unique()\n",
    "top30_countries_df = country_df[country_df['country'].isin(top30_countries)]\n",
    "fig = px.line(top30_countries_df,\n",
    "              x='date', y='confirmed', color='country',\n",
    "              title=f'Confirmed Cases for top 30 country as of {target_date}')\n",
    "fig.show()"
   ]
  },
  {
   "cell_type": "code",
   "execution_count": null,
   "metadata": {
    "colab": {
     "base_uri": "https://localhost:8080/",
     "height": 542
    },
    "id": "CvMmIoCYEynt",
    "outputId": "1f76440f-291e-4b5c-c9ea-42cf5a33f1c1"
   },
   "outputs": [],
   "source": [
    "# 29th code , wrong numbering \n",
    "top30_countries = top_country_df.sort_values('fatalities', ascending=False).iloc[:30]['country'].unique()    \n",
    "top30_countries_df = country_df[country_df['country'].isin(top30_countries)]\n",
    "fig = px.line(top30_countries_df,\n",
    "              x='date', y='fatalities', color='country',\n",
    "              title=f'Fatalities for top 30 country as of {target_date}')\n",
    "fig.show()"
   ]
  },
  {
   "cell_type": "code",
   "execution_count": null,
   "metadata": {
    "id": "Plw7s1gQEy2U"
   },
   "outputs": [],
   "source": [
    "top_country_df = country_df.query('(date == @target_date) & (confirmed > 100)')\n",
    "top_country_df['mortality_rate'] = top_country_df['fatalities'] / top_country_df['confirmed']\n",
    "top_country_df = top_country_df.sort_values('mortality_rate', ascending=False)"
   ]
  },
  {
   "cell_type": "code",
   "execution_count": null,
   "metadata": {
    "colab": {
     "base_uri": "https://localhost:8080/",
     "height": 817
    },
    "id": "CmDXETkFEzCI",
    "outputId": "4f4b7948-5352-40b8-eb1a-e00626f47795"
   },
   "outputs": [],
   "source": [
    "fig = px.bar(top_country_df[:30].iloc[::-1],\n",
    "             x='mortality_rate', y='country',\n",
    "             title=f'Mortality rate HIGH: top 30 countries on {target_date}', text='mortality_rate', height=800, orientation='h')\n",
    "fig.show()"
   ]
  },
  {
   "cell_type": "code",
   "execution_count": null,
   "metadata": {
    "colab": {
     "base_uri": "https://localhost:8080/",
     "height": 817
    },
    "id": "r_hMlNMjEzMo",
    "outputId": "456a28db-2d77-42e0-f175-bd65d677fd3c"
   },
   "outputs": [],
   "source": [
    "fig = px.bar(top_country_df[-30:],\n",
    "             x='mortality_rate', y='country',\n",
    "             title=f'Mortality rate LOW: top 30 countries on {target_date}', text='mortality_rate', height=800, orientation='h')\n",
    "fig.show()"
   ]
  },
  {
   "cell_type": "code",
   "execution_count": null,
   "metadata": {
    "id": "ArVZlF5YEzOP"
   },
   "outputs": [],
   "source": [
    "all_country_df = country_df.query('date == @target_date')\n",
    "all_country_df['confirmed_log1p'] = np.log10(all_country_df['confirmed'] + 1)\n",
    "all_country_df['fatalities_log1p'] = np.log10(all_country_df['fatalities'] + 1)\n",
    "all_country_df['mortality_rate'] = all_country_df['fatalities'] / all_country_df['confirmed']"
   ]
  },
  {
   "cell_type": "code",
   "execution_count": null,
   "metadata": {
    "colab": {
     "base_uri": "https://localhost:8080/",
     "height": 542
    },
    "id": "EDU01JfIEzSK",
    "outputId": "715a7838-d41d-469a-eb77-b13f92aad9b6"
   },
   "outputs": [],
   "source": [
    "fig = px.choropleth(all_country_df, locations=\"country\", \n",
    "                    locationmode='country names', color=\"confirmed_log1p\", \n",
    "                    hover_name=\"country\", hover_data=[\"confirmed\", 'fatalities', 'mortality_rate'],\n",
    "                    range_color=[all_country_df['confirmed_log1p'].min(), all_country_df['confirmed_log1p'].max()], \n",
    "                    color_continuous_scale=\"peach\", \n",
    "                    title='Countries with Confirmed Cases')\n",
    "\n",
    "# I'd like to update colorbar to show raw values, but this does not work somehow...\n",
    "# Please let me know if you know how to do this!!\n",
    "trace1 = list(fig.select_traces())[0]\n",
    "trace1.colorbar = go.choropleth.ColorBar(\n",
    "    tickvals=[0, 1, 2, 3, 4, 5],\n",
    "    ticktext=['1', '10', '100', '1000','10000', '10000'])\n",
    "fig.show()"
   ]
  },
  {
   "cell_type": "code",
   "execution_count": null,
   "metadata": {
    "colab": {
     "base_uri": "https://localhost:8080/",
     "height": 542
    },
    "id": "bJbh3xhCEzaz",
    "outputId": "b9259aba-5d80-475d-95b1-04adda238c7c"
   },
   "outputs": [],
   "source": [
    "fig = px.choropleth(all_country_df, locations=\"country\", \n",
    "                    locationmode='country names', color=\"fatalities_log1p\", \n",
    "                    hover_name=\"country\", range_color=[0, 4],\n",
    "                    hover_data=['confirmed', 'fatalities', 'mortality_rate'],\n",
    "                    color_continuous_scale=\"peach\", \n",
    "                    title='Countries with fatalities')\n",
    "fig.show()"
   ]
  },
  {
   "cell_type": "code",
   "execution_count": null,
   "metadata": {
    "colab": {
     "base_uri": "https://localhost:8080/",
     "height": 542
    },
    "id": "q__32n-lEzca",
    "outputId": "8ebcdb4e-3797-4287-d738-c38bf2469b7d"
   },
   "outputs": [],
   "source": [
    "fig = px.choropleth(all_country_df, locations=\"country\", \n",
    "                    locationmode='country names', color=\"mortality_rate\", \n",
    "                    hover_name=\"country\", range_color=[0, 0.12], \n",
    "                    color_continuous_scale=\"peach\", \n",
    "                    title='Countries with mortality rate')\n",
    "fig.show()"
   ]
  },
  {
   "cell_type": "code",
   "execution_count": null,
   "metadata": {
    "id": "b7W1rK0IEzgN"
   },
   "outputs": [],
   "source": [
    "n_countries = 20\n",
    "n_start_death = 10\n",
    "fatality_top_countires = top_country_df.sort_values('fatalities', ascending=False).iloc[:n_countries]['country'].values\n",
    "country_df['date'] = pd.to_datetime(country_df['date'])\n",
    "\n",
    "\n",
    "df_list = []\n",
    "for country in fatality_top_countires:\n",
    "    this_country_df = country_df.query('country == @country')\n",
    "    start_date = this_country_df.query('fatalities > @n_start_death')['date'].min()\n",
    "    this_country_df = this_country_df.query('date >= @start_date')\n",
    "    this_country_df['date_since'] = this_country_df['date'] - start_date\n",
    "    this_country_df['fatalities_log1p'] = np.log10(this_country_df['fatalities'] + 1)\n",
    "    this_country_df['fatalities_log1p'] -= this_country_df['fatalities_log1p'].values[0]\n",
    "    df_list.append(this_country_df)\n",
    "\n",
    "tmpdf = pd.concat(df_list)\n",
    "tmpdf['date_since_days'] = tmpdf['date_since'] / pd.Timedelta('1 days')"
   ]
  },
  {
   "cell_type": "code",
   "execution_count": null,
   "metadata": {
    "colab": {
     "base_uri": "https://localhost:8080/",
     "height": 542
    },
    "id": "90k7HNWTEzlK",
    "outputId": "42401033-6528-4fe2-bceb-ce94e6236695"
   },
   "outputs": [],
   "source": [
    "fig = px.line(tmpdf,\n",
    "              x='date_since_days', y='fatalities_log1p', color='country',\n",
    "              title=f'Fatalities by country since 10 deaths, as of {target_date}')\n",
    "fig.add_trace(go.Scatter(x=[0, 28], y=[0, 4], name='Double by 7 days', line=dict(dash='dash', color=('rgb(200, 200, 200)'))))\n",
    "fig.add_trace(go.Scatter(x=[0, 56], y=[0, 4], name='Double by 14 days', line=dict(dash='dash', color=('rgb(200, 200, 200)'))))\n",
    "fig.add_trace(go.Scatter(x=[0, 84], y=[0, 4], name='Double by 21 days', line=dict(dash='dash', color=('rgb(200, 200, 200)'))))\n",
    "fig.show()"
   ]
  },
  {
   "cell_type": "code",
   "execution_count": null,
   "metadata": {
    "colab": {
     "base_uri": "https://localhost:8080/",
     "height": 542
    },
    "id": "CJMMM2qeEzqj",
    "outputId": "59938f19-4e51-488e-bd8f-94cb97c6ddeb"
   },
   "outputs": [],
   "source": [
    "country_df['prev_confirmed'] = country_df.groupby('country')['confirmed'].shift(1)\n",
    "country_df['new_case'] = country_df['confirmed'] - country_df['prev_confirmed']\n",
    "country_df['new_case'].fillna(0, inplace=True)\n",
    "top30_country_df = country_df[country_df['country'].isin(top30_countries)]\n",
    "\n",
    "fig = px.line(top30_country_df,\n",
    "              x='date', y='new_case', color='country',\n",
    "              title=f'DAILY NEW Confirmed cases by country')\n",
    "fig.show()"
   ]
  },
  {
   "cell_type": "code",
   "execution_count": null,
   "metadata": {
    "colab": {
     "base_uri": "https://localhost:8080/",
     "height": 542
    },
    "id": "FarcwLIsEzvB",
    "outputId": "5f0c1295-b516-4f0a-b320-c959ac27cfcc"
   },
   "outputs": [],
   "source": [
    "country_df['prev_new_case'] = country_df.groupby('country')['new_case'].shift(1)\n",
    "country_df['growth_factor'] = country_df['new_case'] / country_df['prev_new_case']\n",
    "country_df['growth_factor'].fillna(0, inplace=True)\n",
    "top30_country_df = country_df[country_df['country'].isin(top30_countries)]\n",
    "\n",
    "fig = px.line(top30_country_df,\n",
    "              x='date', y='growth_factor', color='country',\n",
    "              title=f'Growth factor by country')\n",
    "fig.add_trace(go.Scatter(x=[ww_df['date'].min(), ww_df['date'].max()], y=[1., 1.], name='Growth factor=1.', line=dict(dash='dash', color=('rgb(255, 0, 0)'))))\n",
    "fig.update_yaxes(range=[0., 5.])\n",
    "fig.show()\n"
   ]
  },
  {
   "cell_type": "code",
   "execution_count": null,
   "metadata": {
    "colab": {
     "base_uri": "https://localhost:8080/",
     "height": 542
    },
    "id": "hBf4UrEhEzzC",
    "outputId": "b4767df3-1102-4c15-aa13-873a8a9b1c4c"
   },
   "outputs": [],
   "source": [
    "country_df['date'] = country_df['date'].apply(str)\n",
    "country_df['confirmed_log1p'] = np.log1p(country_df['confirmed'])\n",
    "country_df['fatalities_log1p'] = np.log1p(country_df['fatalities'])\n",
    "\n",
    "fig = px.scatter_geo(country_df, locations=\"country\", locationmode='country names', \n",
    "                     color=\"confirmed\", size='confirmed', hover_name=\"country\", \n",
    "                     hover_data=['confirmed', 'fatalities'],\n",
    "                     range_color= [0, country_df['confirmed'].max()], \n",
    "                     projection=\"natural earth\", animation_frame=\"date\", \n",
    "                     title='COVID-19: Confirmed cases spread Over Time', color_continuous_scale=\"portland\")\n",
    "# fig.update(layout_coloraxis_showscale=False)\n",
    "fig.show()"
   ]
  },
  {
   "cell_type": "code",
   "execution_count": null,
   "metadata": {
    "colab": {
     "base_uri": "https://localhost:8080/",
     "height": 542
    },
    "id": "GR7zEnwnEz4J",
    "outputId": "9227ad04-ce3d-4b33-8ed8-f3ea6d2b2f81"
   },
   "outputs": [],
   "source": [
    "fig = px.scatter_geo(country_df, locations=\"country\", locationmode='country names', \n",
    "                     color=\"fatalities\", size='fatalities', hover_name=\"country\", \n",
    "                     hover_data=['confirmed', 'fatalities'],\n",
    "                     range_color= [0, country_df['fatalities'].max()], \n",
    "                     projection=\"natural earth\", animation_frame=\"date\", \n",
    "                     title='COVID-19: Fatalities growth Over Time', color_continuous_scale=\"portland\")\n",
    "fig.show()"
   ]
  },
  {
   "cell_type": "code",
   "execution_count": null,
   "metadata": {
    "colab": {
     "base_uri": "https://localhost:8080/",
     "height": 542
    },
    "id": "mrs6YW6lEz8y",
    "outputId": "51228e0c-f145-4200-d213-74b2ce51799c"
   },
   "outputs": [],
   "source": [
    "country_df.loc[country_df['new_case'] < 0, 'new_case'] = 0.\n",
    "fig = px.scatter_geo(country_df, locations=\"country\", locationmode='country names', \n",
    "                     color=\"new_case\", size='new_case', hover_name=\"country\", \n",
    "                     hover_data=['confirmed', 'fatalities'],\n",
    "                     range_color= [0, country_df['new_case'].max()], \n",
    "                     projection=\"natural earth\", animation_frame=\"date\", \n",
    "                     title='COVID-19: Daily NEW cases over Time', color_continuous_scale=\"portland\")\n",
    "fig.show()"
   ]
  },
  {
   "cell_type": "code",
   "execution_count": null,
   "metadata": {
    "colab": {
     "base_uri": "https://localhost:8080/"
    },
    "id": "lrX42-bJE0Bz",
    "outputId": "ba4f36c5-a70a-4060-93a2-78fd01ecd27b"
   },
   "outputs": [],
   "source": [
    "for country in countries:\n",
    "    province = train.query('country == @country')['province'].unique()\n",
    "    if len(province) > 1:       \n",
    "        print(f'Country {country} has {len(province)} provinces: {province}')"
   ]
  },
  {
   "cell_type": "code",
   "execution_count": null,
   "metadata": {
    "id": "Q9iU0FYcE0HO"
   },
   "outputs": [],
   "source": [
    "usa_state_code_df = pd.read_csv('usa_states2.csv')"
   ]
  },
  {
   "cell_type": "code",
   "execution_count": null,
   "metadata": {
    "colab": {
     "base_uri": "https://localhost:8080/",
     "height": 402
    },
    "id": "yirojvfLE0NN",
    "outputId": "ed042f38-7389-45ce-e042-a6ff44736dc6"
   },
   "outputs": [],
   "source": [
    "train_us"
   ]
  },
  {
   "cell_type": "code",
   "execution_count": null,
   "metadata": {
    "id": "dMk7PF2jE0SB"
   },
   "outputs": [],
   "source": [
    "# Prepare data frame only for US. \n",
    "\n",
    "#train_us = train.query('country == \"US\"')\n",
    "train_us['mortality_rate'] = train_us['fatalities'] / train_us['confirmed']\n",
    "\n",
    "# Convert province column to its 2-char code name,\n",
    "state_name_to_code = dict(zip(usa_state_code_df['state_name'], usa_state_code_df['state_code']))\n",
    "train_us['province_code'] = train_us['province'].map(state_name_to_code)\n",
    "\n",
    "# Only show latest days.\n",
    "train_us_latest = train_us.query('date == @target_date')"
   ]
  },
  {
   "cell_type": "code",
   "execution_count": null,
   "metadata": {
    "colab": {
     "base_uri": "https://localhost:8080/",
     "height": 542
    },
    "id": "fkR7BWroE0UD",
    "outputId": "20516d09-27ca-442d-8dd6-d45153449447"
   },
   "outputs": [],
   "source": [
    "fig = px.choropleth(train_us_latest, locations='province_code', locationmode=\"USA-states\",\n",
    "                    color='confirmed', scope=\"usa\", hover_data=['province', 'fatalities', 'mortality_rate'],\n",
    "                    title=f'Confirmed cases in US on {target_date}')\n",
    "fig.show()"
   ]
  },
  {
   "cell_type": "code",
   "execution_count": null,
   "metadata": {
    "colab": {
     "base_uri": "https://localhost:8080/",
     "height": 1000
    },
    "id": "Wne9gTYKE0W8",
    "outputId": "fe7b360f-41ec-46d7-f056-bf92dd5bc92c"
   },
   "outputs": [],
   "source": [
    "train_us_latest.sort_values('confirmed', ascending=False)"
   ]
  },
  {
   "cell_type": "code",
   "execution_count": null,
   "metadata": {
    "colab": {
     "base_uri": "https://localhost:8080/",
     "height": 542
    },
    "id": "GBw42IzYE0b8",
    "outputId": "c3889ce3-fa6d-4baa-8256-58cf62f8a9d6"
   },
   "outputs": [],
   "source": [
    "fig = px.choropleth(train_us_latest, locations='province_code', locationmode=\"USA-states\",\n",
    "                    color='mortality_rate', scope=\"usa\", hover_data=['province', 'fatalities', 'mortality_rate'],\n",
    "                    title=f'Mortality rate in US on {target_date}')\n",
    "fig.show()"
   ]
  },
  {
   "cell_type": "code",
   "execution_count": null,
   "metadata": {
    "colab": {
     "base_uri": "https://localhost:8080/",
     "height": 542
    },
    "id": "mcnAxTJ8E0gO",
    "outputId": "a6dfdf2d-a474-48cb-ef40-715f57b034da"
   },
   "outputs": [],
   "source": [
    "train_us_march = train_us.query('date > \"2020-03-01\"')\n",
    "fig = px.line(train_us_march,\n",
    "              x='date', y='confirmed', color='province',\n",
    "              title=f'Confirmed cases by state in US, as of {target_date}')\n",
    "fig.show()"
   ]
  },
  {
   "cell_type": "code",
   "execution_count": null,
   "metadata": {
    "colab": {
     "base_uri": "https://localhost:8080/",
     "height": 542
    },
    "id": "fXDUoLILE0lG",
    "outputId": "4efa0f02-cb58-4d98-a4ee-568902d76815"
   },
   "outputs": [],
   "source": [
    "train_us_march['prev_confirmed'] = train_us_march.groupby('province')['confirmed'].shift(1)\n",
    "train_us_march['new_case'] = train_us_march['confirmed'] - train_us_march['prev_confirmed']\n",
    "train_us_march['new_case'].fillna(0, inplace=True)\n",
    "\n",
    "fig = px.line(train_us_march,\n",
    "              x='date', y='new_case', color='province',\n",
    "              title=f'DAILY NEW Confirmed cases by states in US')\n",
    "fig.show()"
   ]
  },
  {
   "cell_type": "code",
   "execution_count": null,
   "metadata": {
    "colab": {
     "base_uri": "https://localhost:8080/",
     "height": 542
    },
    "id": "zreiK2NbE0nG",
    "outputId": "6584ce33-7f2e-4e04-e87e-99bd7717911b"
   },
   "outputs": [],
   "source": [
    "train_us_march['prev_new_case'] = train_us_march.groupby('province')['new_case'].shift(1)\n",
    "train_us_march['growth_factor'] = train_us_march['new_case'] / train_us_march['prev_new_case']\n",
    "train_us_march['growth_factor'].fillna(0, inplace=True)\n",
    "fig = px.line(train_us_march,\n",
    "              x='date', y='growth_factor', color='province',\n",
    "              title=f'Growth factor by state in US')\n",
    "fig.add_trace(go.Scatter(x=[train_us_march['date'].min(), train_us_march['date'].max()], y=[1., 1.],\n",
    "                         name='Growth factor=1.', line=dict(dash='dash', color=('rgb(255, 0, 0)'))))\n",
    "fig.update_yaxes(range=[0., 5.])\n",
    "fig.show()"
   ]
  },
  {
   "cell_type": "code",
   "execution_count": null,
   "metadata": {
    "id": "1Ayr-oRvE0r7"
   },
   "outputs": [],
   "source": [
    "\n",
    "europe_country_list =list([\n",
    "    'Austria','Belgium','Bulgaria','Croatia','Cyprus','Czechia','Denmark','Estonia','Finland','France','Germany','Greece','Hungary','Ireland',\n",
    "    'Italy', 'Latvia','Luxembourg','Lithuania','Malta','Norway','Netherlands','Poland','Portugal','Romania','Slovakia','Slovenia',\n",
    "    'Spain', 'Sweden', 'United Kingdom', 'Iceland', 'Russia', 'Switzerland', 'Serbia', 'Ukraine', 'Belarus',\n",
    "    'Albania', 'Bosnia and Herzegovina', 'Kosovo', 'Moldova', 'Montenegro', 'North Macedonia'])\n",
    "\n",
    "country_df['date'] = pd.to_datetime(country_df['date'])\n",
    "train_europe = country_df[country_df['country'].isin(europe_country_list)]\n",
    "#train_europe['date_str'] = pd.to_datetime(train_europe['date'])\n",
    "train_europe_latest = train_europe.query('date == @target_date')"
   ]
  },
  {
   "cell_type": "code",
   "execution_count": null,
   "metadata": {
    "colab": {
     "base_uri": "https://localhost:8080/",
     "height": 817
    },
    "id": "uzExk3CME0u-",
    "outputId": "7d7ca6c9-5f6d-478e-826a-92f83b8a0274"
   },
   "outputs": [],
   "source": [
    "fig = px.choropleth(train_europe_latest, locations=\"country\", \n",
    "                    locationmode='country names', color=\"confirmed\", \n",
    "                    hover_name=\"country\", range_color=[1, train_europe_latest['confirmed'].max()], \n",
    "                    color_continuous_scale='portland', \n",
    "                    title=f'European Countries with Confirmed Cases as of {target_date}', scope='europe', height=800)\n",
    "fig.show()"
   ]
  },
  {
   "cell_type": "code",
   "execution_count": null,
   "metadata": {
    "colab": {
     "base_uri": "https://localhost:8080/",
     "height": 542
    },
    "id": "W32mVlsWE00N",
    "outputId": "caa7130c-2e29-4065-fb10-871456ea4a73"
   },
   "outputs": [],
   "source": [
    "train_europe_march = train_europe.query('date >= \"2020-03-01\"')\n",
    "fig = px.line(train_europe_march,\n",
    "              x='date', y='confirmed', color='country',\n",
    "              title=f'Confirmed cases by country in Europe, as of {target_date}')\n",
    "fig.show()"
   ]
  },
  {
   "cell_type": "code",
   "execution_count": null,
   "metadata": {
    "colab": {
     "base_uri": "https://localhost:8080/",
     "height": 542
    },
    "id": "cH3qsjTYE046",
    "outputId": "e806e933-056a-46d8-c534-9bb1baeef088"
   },
   "outputs": [],
   "source": [
    "fig = px.line(train_europe_march,\n",
    "              x='date', y='fatalities', color='country',\n",
    "              title=f'Fatalities by country in Europe, as of {target_date}')\n",
    "fig.show()"
   ]
  },
  {
   "cell_type": "code",
   "execution_count": null,
   "metadata": {
    "colab": {
     "base_uri": "https://localhost:8080/",
     "height": 542
    },
    "id": "ib9VzBfOE097",
    "outputId": "cf9ea6bd-0542-44b9-8eef-77801063df2f"
   },
   "outputs": [],
   "source": [
    "train_europe_march['prev_confirmed'] = train_europe_march.groupby('country')['confirmed'].shift(1)\n",
    "train_europe_march['new_case'] = train_europe_march['confirmed'] - train_europe_march['prev_confirmed']\n",
    "fig = px.line(train_europe_march,\n",
    "              x='date', y='new_case', color='country',\n",
    "              title=f'DAILY NEW Confirmed cases by country in Europe')\n",
    "fig.show()"
   ]
  },
  {
   "cell_type": "code",
   "execution_count": null,
   "metadata": {
    "colab": {
     "base_uri": "https://localhost:8080/",
     "height": 542
    },
    "id": "w2Rpa-nPE1DH",
    "outputId": "ad50de86-9423-47f1-9a93-00849f67767a"
   },
   "outputs": [],
   "source": [
    "train_europe_march['prev_new_case'] = train_europe_march.groupby('country')['new_case'].shift(1)\n",
    "train_europe_march['growth_factor'] = train_europe_march['new_case'] / train_europe_march['prev_new_case']\n",
    "train_europe_march['growth_factor'].fillna(0, inplace=True)\n",
    "fig = px.line(train_europe_march,\n",
    "              x='date', y='growth_factor', color='country',\n",
    "              title=f'Growth factor by country in Europe')\n",
    "fig.add_trace(go.Scatter(x=[train_europe_march['date'].min(), train_europe_march['date'].max()], y=[1., 1.],\n",
    "                         name='Growth factor=1.', line=dict(dash='dash', color=('rgb(255, 0, 0)'))))\n",
    "fig.update_yaxes(range=[0., 5.])\n",
    "fig.show()"
   ]
  },
  {
   "cell_type": "code",
   "execution_count": null,
   "metadata": {
    "colab": {
     "base_uri": "https://localhost:8080/",
     "height": 817
    },
    "id": "7ptudd_iE1IA",
    "outputId": "7cdf92ed-9d8e-403b-a2c0-4a9cb8fc3429"
   },
   "outputs": [],
   "source": [
    "country_latest = country_df.query('date == @target_date')\n",
    "\n",
    "fig = px.choropleth(country_latest, locations=\"country\", \n",
    "                    locationmode='country names', color=\"confirmed\", \n",
    "                    hover_name=\"country\", range_color=[1, 300000], \n",
    "                    color_continuous_scale='portland', \n",
    "                    title=f'Asian Countries with Confirmed Cases as of {target_date}', scope='asia', height=800)\n",
    "fig.show()"
   ]
  },
  {
   "cell_type": "code",
   "execution_count": null,
   "metadata": {
    "colab": {
     "base_uri": "https://localhost:8080/",
     "height": 542
    },
    "id": "-mYVYKzRE1Nh",
    "outputId": "202c805e-4680-4401-f391-8a43fbeb5e02"
   },
   "outputs": [],
   "source": [
    "top_asian_country_df = country_df[country_df['country'].isin([\n",
    "    'China', 'Indonesia', 'Iran', 'Japan', 'Korea, South', 'Malaysia', 'Philippines',\n",
    "    'India', 'Bangladesh', 'Pakistan', 'Saudi Arabia', 'Turkey'\n",
    "])]\n",
    "\n",
    "fig = px.line(top_asian_country_df,\n",
    "              x='date', y='new_case', color='country',\n",
    "              title=f'DAILY NEW Confirmed cases Asia')\n",
    "fig.show()"
   ]
  },
  {
   "cell_type": "code",
   "execution_count": null,
   "metadata": {
    "colab": {
     "base_uri": "https://localhost:8080/",
     "height": 542
    },
    "id": "TldPz7pXE1SZ",
    "outputId": "ed446d0e-2530-426b-e104-045dfd09ea72"
   },
   "outputs": [],
   "source": [
    "top_asian_country_df['prev_new_case'] = top_asian_country_df.groupby('country')['new_case'].shift(1)\n",
    "top_asian_country_df['growth_factor'] = top_asian_country_df['new_case'] / top_asian_country_df['prev_new_case']\n",
    "top_asian_country_df['growth_factor'].fillna(0, inplace=True)\n",
    "fig = px.line(top_asian_country_df,\n",
    "              x='date', y='growth_factor', color='country',\n",
    "              title=f'Growth factor by country in Asia')\n",
    "fig.add_trace(go.Scatter(x=[top_asian_country_df['date'].min(), top_asian_country_df['date'].max()], y=[1., 1.],\n",
    "                         name='Growth factor=1.', line=dict(dash='dash', color=('rgb(255, 0, 0)'))))\n",
    "fig.update_yaxes(range=[0., 5.])\n",
    "fig.show()"
   ]
  },
  {
   "cell_type": "code",
   "execution_count": null,
   "metadata": {
    "id": "ciSJMs0AE1XH"
   },
   "outputs": [],
   "source": [
    "max_confirmed = country_df.groupby('country')['new_case'].max().reset_index()\n",
    "country_latest = pd.merge(country_latest, max_confirmed.rename({'new_case': 'max_new_case'}, axis=1))\n",
    "country_latest['new_case_peak_to_now_ratio'] = country_latest['new_case'] / country_latest['max_new_case']"
   ]
  },
  {
   "cell_type": "code",
   "execution_count": null,
   "metadata": {
    "id": "sedLgN5YE1cq"
   },
   "outputs": [],
   "source": [
    "recovering_country = country_latest.query('new_case_peak_to_now_ratio < 0.5')\n",
    "major_recovering_country = recovering_country.query('confirmed > 100')"
   ]
  },
  {
   "cell_type": "code",
   "execution_count": null,
   "metadata": {
    "colab": {
     "base_uri": "https://localhost:8080/",
     "height": 1000
    },
    "id": "WGp3ZtgJE1hn",
    "outputId": "d8a8058f-bb74-42f6-d0b3-a2114c814484"
   },
   "outputs": [],
   "source": [
    "fig = px.bar(major_recovering_country.sort_values('new_case_peak_to_now_ratio', ascending=False),\n",
    "             x='new_case_peak_to_now_ratio', y='country',\n",
    "             title=f'Mortality rate LOW: top 30 countries on {target_date}', text='new_case_peak_to_now_ratio', height=1000, orientation='h')\n",
    "fig.show()"
   ]
  },
  {
   "cell_type": "code",
   "execution_count": null,
   "metadata": {
    "colab": {
     "base_uri": "https://localhost:8080/",
     "height": 542
    },
    "id": "CAi3n4NVE1m_",
    "outputId": "652ed5df-7fd2-46b8-c628-998f7224f39f"
   },
   "outputs": [],
   "source": [
    "fig = px.choropleth(country_latest, locations=\"country\", \n",
    "                    locationmode='country names', color=\"new_case_peak_to_now_ratio\", \n",
    "                    hover_name=\"country\", range_color=[0, 1], \n",
    "                    # color_continuous_scale=\"peach\", \n",
    "                    hover_data=['confirmed', 'fatalities', 'new_case', 'max_new_case'],\n",
    "                    title='Countries with new_case_peak_to_now_ratio')\n",
    "fig.show()"
   ]
  },
  {
   "cell_type": "code",
   "execution_count": null,
   "metadata": {
    "id": "aRn8xS8OE1sk"
   },
   "outputs": [],
   "source": [
    "china_df = train.query('country == \"China\"')\n",
    "china_df['prev_confirmed'] = china_df.groupby('province')['confirmed'].shift(1)\n",
    "china_df['new_case'] = china_df['confirmed'] - china_df['prev_confirmed']\n",
    "china_df.loc[china_df['new_case'] < 0, 'new_case'] = 0."
   ]
  },
  {
   "cell_type": "code",
   "execution_count": null,
   "metadata": {
    "colab": {
     "base_uri": "https://localhost:8080/",
     "height": 542
    },
    "id": "FHKmIphpE1xv",
    "outputId": "c8faab6b-914c-4275-bb94-950204f771f1"
   },
   "outputs": [],
   "source": [
    "fig = px.line(china_df,\n",
    "              x='date', y='new_case', color='province',\n",
    "              title=f'DAILY NEW Confirmed cases in China by province')\n",
    "fig.show()"
   ]
  },
  {
   "cell_type": "code",
   "execution_count": null,
   "metadata": {
    "colab": {
     "base_uri": "https://localhost:8080/",
     "height": 402
    },
    "id": "HWLOGRuIE12t",
    "outputId": "c9eabfd1-7de9-429b-d85a-f2626b8bd865"
   },
   "outputs": [],
   "source": [
    "china_df.query('(province == \"Hubei\") & (date > \"2020-03-10\")')[['country_province', 'date', 'confirmed', 'fatalities', 'recovered', 'new_case']]"
   ]
  },
  {
   "cell_type": "code",
   "execution_count": null,
   "metadata": {
    "id": "vQZ0QNI9E18n"
   },
   "outputs": [],
   "source": [
    "def sigmoid(t, M, beta, alpha, offset=0):\n",
    "    alpha += offset\n",
    "    return M / (1 + np.exp(-beta * (t - alpha)))\n",
    "\n",
    "def error(x, y, params):\n",
    "    M, beta, alpha = params\n",
    "    y_pred = sigmoid(x, M, beta, alpha)\n",
    "\n",
    "    # apply weight, latest number is more important than past.\n",
    "    weight = np.arange(len(y_pred)) ** 2\n",
    "    loss_mse = np.mean((y_pred - y) ** 2 * weight)\n",
    "    return loss_mse\n",
    "\n",
    "def gen_random_color(min_value=0, max_value=256) -> str:\n",
    "    \"\"\"Generate random color for plotly\"\"\"\n",
    "    r, g, b = np.random.randint(min_value, max_value, 3)\n",
    "    return f'rgb({r},{g},{b})'"
   ]
  },
  {
   "cell_type": "code",
   "execution_count": null,
   "metadata": {
    "id": "y1ce4AZXE2Br"
   },
   "outputs": [],
   "source": [
    "def fit_sigmoid(exclude_days=0):\n",
    "    target_country_df_list = []\n",
    "    pred_df_list = []\n",
    "    for target_country in top30_countries:\n",
    "        print('target_country', target_country)\n",
    "        # --- Train ---\n",
    "        target_country_df = country_df.query('country == @target_country')\n",
    "\n",
    "        #train_start_date = target_country_df['date'].min()\n",
    "        train_start_date = target_country_df.query('confirmed > 1000')['date'].min()\n",
    "        train_end_date = pd.to_datetime(target_date) - pd.Timedelta(f'{exclude_days} days')\n",
    "        target_date_df = target_country_df.query('(date >= @train_start_date) & (date <= @train_end_date)')\n",
    "        if len(target_date_df) <= 7:\n",
    "            print('WARNING: the data is not enough, use 7 more days...')\n",
    "            train_start_date -= pd.Timedelta('7 days')\n",
    "            target_date_df = target_country_df.query('(date >= @train_start_date) & (date <= @train_end_date)')\n",
    "\n",
    "        confirmed = target_date_df['confirmed'].values\n",
    "        x = np.arange(len(confirmed))\n",
    "\n",
    "        lossfun = lambda params: error(x, confirmed, params)\n",
    "        res = sp.optimize.minimize(lossfun, x0=[np.max(confirmed) * 5, 0.04, 2 * len(confirmed) / 3.], method='nelder-mead')\n",
    "        M, beta, alpha = res.x\n",
    "        # sigmoid_models[key] = (M, beta, alpha)\n",
    "        # np.clip(sigmoid(list(range(len(data), len(data) + steps)), M, beta, alpha), 0, None).astype(int)\n",
    "\n",
    "        # --- Pred ---\n",
    "        pred_start_date = target_country_df['date'].min()\n",
    "        pred_end_date = pd.to_datetime('2021-01-01')\n",
    "        days = int((pred_end_date - pred_start_date) / pd.Timedelta('1 days'))\n",
    "        # print('pred start', pred_start_date, 'end', pred_end_date, 'days', days)\n",
    "\n",
    "        x = np.arange(days)\n",
    "        offset = (train_start_date - pred_start_date) / pd.Timedelta('1 days')\n",
    "        print('train_start_date', train_start_date, 'offset', offset, 'params', M, beta, alpha)\n",
    "        y_pred = sigmoid(x, M, beta, alpha, offset=offset)\n",
    "        # target_country_df['confirmed_pred'] = y_pred\n",
    "\n",
    "        all_dates = [pred_start_date + np.timedelta64(x, 'D') for x in range(days)]\n",
    "        pred_df = pd.DataFrame({\n",
    "            'date': all_dates,\n",
    "            'country': target_country,\n",
    "            'confirmed_pred': y_pred,\n",
    "        })\n",
    "\n",
    "        target_country_df_list.append(target_country_df)\n",
    "        pred_df_list.append(pred_df)\n",
    "    return target_country_df_list, pred_df_list"
   ]
  },
  {
   "cell_type": "code",
   "execution_count": null,
   "metadata": {
    "id": "_k2wbEX0E2Fm"
   },
   "outputs": [],
   "source": [
    "def plot_sigmoid_fitting(target_country_df_list, pred_df_list, title=''):\n",
    "    n_countries = len(top30_countries)\n",
    "\n",
    "    # --- Plot ---\n",
    "    fig = go.Figure()\n",
    "\n",
    "    for i in range(n_countries):\n",
    "        target_country = top30_countries[i]\n",
    "        target_country_df = target_country_df_list[i]\n",
    "        pred_df = pred_df_list[i]\n",
    "        color = gen_random_color(min_value=20)\n",
    "        # Prediction\n",
    "        fig.add_trace(go.Scatter(\n",
    "            x=pred_df['date'], y=pred_df['confirmed_pred'],\n",
    "            name=f'{target_country}_pred',\n",
    "            line=dict(color=color, dash='dash')\n",
    "        ))\n",
    "\n",
    "        # Ground truth\n",
    "        fig.add_trace(go.Scatter(\n",
    "            x=target_country_df['date'], y=target_country_df['confirmed'],\n",
    "            mode='markers', name=f'{target_country}_actual',\n",
    "            line=dict(color=color),\n",
    "        ))\n",
    "    fig.update_layout(\n",
    "        title=title, xaxis_title='Date', yaxis_title='Confirmed cases')\n",
    "    fig.show()"
   ]
  },
  {
   "cell_type": "code",
   "execution_count": null,
   "metadata": {
    "colab": {
     "base_uri": "https://localhost:8080/"
    },
    "id": "x7D-zJcUE2Kz",
    "outputId": "9e32042d-e040-4b86-ca63-98365f841c62"
   },
   "outputs": [],
   "source": [
    "target_country_df_list, pred_df_list = fit_sigmoid(exclude_days=0)"
   ]
  },
  {
   "cell_type": "code",
   "execution_count": null,
   "metadata": {
    "colab": {
     "base_uri": "https://localhost:8080/",
     "height": 542
    },
    "id": "-4L2_hmFE2Ap",
    "outputId": "b4637559-fa87-4831-ffc2-1377442910ca"
   },
   "outputs": [],
   "source": [
    "plot_sigmoid_fitting(target_country_df_list, pred_df_list, title='Sigmoid fitting with all latest data')"
   ]
  },
  {
   "cell_type": "code",
   "execution_count": null,
   "metadata": {
    "colab": {
     "base_uri": "https://localhost:8080/"
    },
    "id": "HDYHmkxYE17Q",
    "outputId": "d0afc670-7e97-4ca0-8c37-a258ae9830a6"
   },
   "outputs": [],
   "source": [
    "target_country_df_list, pred_df_list = fit_sigmoid(exclude_days=7)"
   ]
  },
  {
   "cell_type": "code",
   "execution_count": null,
   "metadata": {
    "colab": {
     "base_uri": "https://localhost:8080/",
     "height": 542
    },
    "id": "SdqLo-25IhiS",
    "outputId": "e3e96ff5-c754-4ffc-85c2-c38ed9cdb613"
   },
   "outputs": [],
   "source": [
    "plot_sigmoid_fitting(target_country_df_list, pred_df_list, title='Sigmoid fitting without last 7days data')"
   ]
  }
 ],
 "metadata": {
  "colab": {
   "collapsed_sections": [],
   "name": "current situation.ipynb",
   "provenance": []
  },
  "kernelspec": {
   "display_name": "Python 3",
   "language": "python",
   "name": "python3"
  },
  "language_info": {
   "codemirror_mode": {
    "name": "ipython",
    "version": 3
   },
   "file_extension": ".py",
   "mimetype": "text/x-python",
   "name": "python",
   "nbconvert_exporter": "python",
   "pygments_lexer": "ipython3",
   "version": "3.6.12"
  }
 },
 "nbformat": 4,
 "nbformat_minor": 4
}
